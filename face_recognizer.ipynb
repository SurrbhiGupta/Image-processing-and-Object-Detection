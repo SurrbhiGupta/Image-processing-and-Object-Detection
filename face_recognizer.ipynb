{
 "cells": [
  {
   "cell_type": "code",
   "execution_count": 1,
   "metadata": {},
   "outputs": [],
   "source": [
    "import cv2 as cv\n",
    "import numpy as np\n",
    "import matplotlib.pyplot as plt\n",
    "import os"
   ]
  },
  {
   "cell_type": "code",
   "execution_count": 3,
   "metadata": {},
   "outputs": [
    {
     "name": "stdout",
     "output_type": "stream",
     "text": [
      "['dipika', 'saharukh', 'shraddha', 'siddarth', 'sushant']\n"
     ]
    }
   ],
   "source": [
    "people = os.listdir('P:\\DSA practice\\Face recognizer')\n",
    "directory = r'P:\\DSA practice\\Face recognizer'\n",
    "haar_cascade = cv.CascadeClassifier(r\"P:\\DSA practice\\images\\haar_face.xml\")\n",
    "print(people)"
   ]
  },
  {
   "cell_type": "code",
   "execution_count": 4,
   "metadata": {},
   "outputs": [
    {
     "name": "stdout",
     "output_type": "stream",
     "text": [
      "length of features : 131\n",
      "length of labels : 131\n"
     ]
    }
   ],
   "source": [
    "features = []\n",
    "labels = []\n",
    "def create_train():\n",
    "    for person in people:\n",
    "        path = os.path.join(directory, person)\n",
    "        label = people.index(person)\n",
    "        \n",
    "        for img in os.listdir(path):\n",
    "            img_path = os.path.join(path, img)\n",
    "            \n",
    "            img_array = cv.imread(img_path)\n",
    "            gray = cv.cvtColor(img_array, cv.COLOR_BGR2GRAY)\n",
    "            \n",
    "            faces_rect = haar_cascade.detectMultiScale(gray, scaleFactor=1.1, minNeighbors=4)\n",
    "            \n",
    "            for (x,y,w,h) in faces_rect:\n",
    "                faces_roi = gray[y:y+h, x:x+w]\n",
    "                features.append(faces_roi)\n",
    "                labels.append(label)\n",
    "create_train()\n",
    "print('length of features :', len(features))\n",
    "print('length of labels :', len(labels))"
   ]
  },
  {
   "cell_type": "code",
   "execution_count": 5,
   "metadata": {},
   "outputs": [
    {
     "ename": "AttributeError",
     "evalue": "module 'cv2' has no attribute 'face'",
     "output_type": "error",
     "traceback": [
      "\u001b[1;31m---------------------------------------------------------------------------\u001b[0m",
      "\u001b[1;31mAttributeError\u001b[0m                            Traceback (most recent call last)",
      "Cell \u001b[1;32mIn[5], line 3\u001b[0m\n\u001b[0;32m      1\u001b[0m features \u001b[39m=\u001b[39m np\u001b[39m.\u001b[39marray(features, dtype\u001b[39m=\u001b[39m\u001b[39m'\u001b[39m\u001b[39mobject\u001b[39m\u001b[39m'\u001b[39m)\n\u001b[0;32m      2\u001b[0m labels \u001b[39m=\u001b[39m np\u001b[39m.\u001b[39marray(labels)\n\u001b[1;32m----> 3\u001b[0m face_recognizer \u001b[39m=\u001b[39m cv\u001b[39m.\u001b[39;49mface\u001b[39m.\u001b[39mLBPHFaceRecognizer_create()\n\u001b[0;32m      4\u001b[0m \u001b[39m# train the recognizeron the features list and the label list\u001b[39;00m\n\u001b[0;32m      5\u001b[0m face_recognizer\u001b[39m.\u001b[39mtrain(features, labels)\n",
      "\u001b[1;31mAttributeError\u001b[0m: module 'cv2' has no attribute 'face'"
     ]
    }
   ],
   "source": [
    "features = np.array(features, dtype='object')\n",
    "labels = np.array(labels)\n",
    "face_recognizer = cv.face.LBPHFaceRecognizer_create()\n",
    "# train the recognizeron the features list and the label list\n",
    "face_recognizer.train(features, labels)\n",
    "\n",
    "face_recognizer.save('face_trained.yml')\n",
    "\n",
    "np.save('features.npy', features)\n",
    "np.save('labels.npy', labels)\n"
   ]
  }
 ],
 "metadata": {
  "kernelspec": {
   "display_name": "Python 3",
   "language": "python",
   "name": "python3"
  },
  "language_info": {
   "codemirror_mode": {
    "name": "ipython",
    "version": 3
   },
   "file_extension": ".py",
   "mimetype": "text/x-python",
   "name": "python",
   "nbconvert_exporter": "python",
   "pygments_lexer": "ipython3",
   "version": "3.10.3"
  },
  "orig_nbformat": 4
 },
 "nbformat": 4,
 "nbformat_minor": 2
}
