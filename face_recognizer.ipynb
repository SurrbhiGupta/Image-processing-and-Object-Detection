{
 "cells": [
  {
   "cell_type": "code",
   "execution_count": 1,
   "metadata": {},
   "outputs": [],
   "source": [
    "import cv2 as cv\n",
    "import numpy as np\n",
    "import matplotlib.pyplot as plt\n",
    "import os"
   ]
  },
  {
   "cell_type": "code",
   "execution_count": 2,
   "metadata": {},
   "outputs": [
    {
     "name": "stdout",
     "output_type": "stream",
     "text": [
      "['dipika', 'shahrukh', 'shraddha', 'siddarth', 'sushant']\n"
     ]
    }
   ],
   "source": [
    "people = os.listdir('P:\\DSA practice\\Face recognizer')\n",
    "directory = r'P:\\DSA practice\\Face recognizer'\n",
    "haar_cascade = cv.CascadeClassifier(r\"P:\\DSA practice\\images\\haar_face.xml\")\n",
    "print(people)"
   ]
  },
  {
   "cell_type": "code",
   "execution_count": 3,
   "metadata": {},
   "outputs": [
    {
     "name": "stdout",
     "output_type": "stream",
     "text": [
      "length of features : 131\n",
      "length of labels : 131\n"
     ]
    }
   ],
   "source": [
    "features = []\n",
    "labels = []\n",
    "def create_train():\n",
    "    for person in people:\n",
    "        path = os.path.join(directory, person)\n",
    "        label = people.index(person)\n",
    "        \n",
    "        for img in os.listdir(path):\n",
    "            img_path = os.path.join(path, img)\n",
    "            \n",
    "            img_array = cv.imread(img_path)\n",
    "            gray = cv.cvtColor(img_array, cv.COLOR_BGR2GRAY)\n",
    "            \n",
    "            faces_rect = haar_cascade.detectMultiScale(gray, scaleFactor=1.1, minNeighbors=4)\n",
    "            \n",
    "            for (x,y,w,h) in faces_rect:\n",
    "                faces_roi = gray[y:y+h, x:x+w]\n",
    "                features.append(faces_roi)\n",
    "                labels.append(label)\n",
    "create_train()\n",
    "print('length of features :', len(features))\n",
    "print('length of labels :', len(labels))"
   ]
  },
  {
   "cell_type": "code",
   "execution_count": null,
   "metadata": {},
   "outputs": [],
   "source": [
    "features = np.array(features, dtype='object')\n",
    "labels = np.array(labels)\n",
    "face_recognizer = cv.face.LBPHFaceRecognizer_create()\n",
    "# train the recognizeron the features list and the label list\n",
    "face_recognizer.train(features, labels)\n",
    "\n",
    "face_recognizer.save('face_trained.yml')\n",
    "\n",
    "np.save('features.npy', features)\n",
    "np.save('labels.npy', labels)\n"
   ]
  }
 ],
 "metadata": {
  "kernelspec": {
   "display_name": "Python 3",
   "language": "python",
   "name": "python3"
  },
  "language_info": {
   "codemirror_mode": {
    "name": "ipython",
    "version": 3
   },
   "file_extension": ".py",
   "mimetype": "text/x-python",
   "name": "python",
   "nbconvert_exporter": "python",
   "pygments_lexer": "ipython3",
   "version": "3.10.3"
  },
  "orig_nbformat": 4
 },
 "nbformat": 4,
 "nbformat_minor": 2
}
